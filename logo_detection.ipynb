{
 "cells": [
  {
   "cell_type": "code",
   "execution_count": 9,
   "metadata": {},
   "outputs": [
    {
     "name": "stderr",
     "output_type": "stream",
     "text": [
      "python(18606) MallocStackLogging: can't turn off malloc stack logging because it was not enabled.\n"
     ]
    },
    {
     "name": "stdout",
     "output_type": "stream",
     "text": [
      "Requirement already satisfied: roboflow in ./CVLOGOS/lib/python3.10/site-packages (1.1.12)\n",
      "Requirement already satisfied: certifi==2023.7.22 in ./CVLOGOS/lib/python3.10/site-packages (from roboflow) (2023.7.22)\n",
      "Requirement already satisfied: requests-toolbelt in ./CVLOGOS/lib/python3.10/site-packages (from roboflow) (1.0.0)\n",
      "Requirement already satisfied: python-magic in ./CVLOGOS/lib/python3.10/site-packages (from roboflow) (0.4.27)\n",
      "Requirement already satisfied: cycler==0.10.0 in ./CVLOGOS/lib/python3.10/site-packages (from roboflow) (0.10.0)\n",
      "Requirement already satisfied: python-dotenv in ./CVLOGOS/lib/python3.10/site-packages (from roboflow) (1.0.0)\n",
      "Requirement already satisfied: pyparsing==2.4.7 in ./CVLOGOS/lib/python3.10/site-packages (from roboflow) (2.4.7)\n",
      "Requirement already satisfied: matplotlib in ./CVLOGOS/lib/python3.10/site-packages (from roboflow) (3.8.2)\n",
      "Requirement already satisfied: Pillow>=7.1.2 in ./CVLOGOS/lib/python3.10/site-packages (from roboflow) (10.1.0)\n",
      "Requirement already satisfied: six in ./CVLOGOS/lib/python3.10/site-packages (from roboflow) (1.16.0)\n",
      "Requirement already satisfied: numpy>=1.18.5 in ./CVLOGOS/lib/python3.10/site-packages (from roboflow) (1.26.2)\n",
      "Requirement already satisfied: python-dateutil in ./CVLOGOS/lib/python3.10/site-packages (from roboflow) (2.8.2)\n",
      "Requirement already satisfied: idna==2.10 in ./CVLOGOS/lib/python3.10/site-packages (from roboflow) (2.10)\n",
      "Requirement already satisfied: opencv-python-headless==4.8.0.74 in ./CVLOGOS/lib/python3.10/site-packages (from roboflow) (4.8.0.74)\n",
      "Requirement already satisfied: kiwisolver>=1.3.1 in ./CVLOGOS/lib/python3.10/site-packages (from roboflow) (1.4.5)\n",
      "Requirement already satisfied: supervision in ./CVLOGOS/lib/python3.10/site-packages (from roboflow) (0.17.1)\n",
      "Requirement already satisfied: requests in ./CVLOGOS/lib/python3.10/site-packages (from roboflow) (2.31.0)\n",
      "Requirement already satisfied: tqdm>=4.41.0 in ./CVLOGOS/lib/python3.10/site-packages (from roboflow) (4.66.1)\n",
      "Requirement already satisfied: chardet==4.0.0 in ./CVLOGOS/lib/python3.10/site-packages (from roboflow) (4.0.0)\n",
      "Requirement already satisfied: PyYAML>=5.3.1 in ./CVLOGOS/lib/python3.10/site-packages (from roboflow) (6.0.1)\n",
      "Requirement already satisfied: urllib3>=1.26.6 in ./CVLOGOS/lib/python3.10/site-packages (from roboflow) (2.0.7)\n",
      "Requirement already satisfied: contourpy>=1.0.1 in ./CVLOGOS/lib/python3.10/site-packages (from matplotlib->roboflow) (1.2.0)\n",
      "Requirement already satisfied: packaging>=20.0 in ./CVLOGOS/lib/python3.10/site-packages (from matplotlib->roboflow) (23.2)\n",
      "Requirement already satisfied: fonttools>=4.22.0 in ./CVLOGOS/lib/python3.10/site-packages (from matplotlib->roboflow) (4.46.0)\n",
      "Requirement already satisfied: charset-normalizer<4,>=2 in ./CVLOGOS/lib/python3.10/site-packages (from requests->roboflow) (3.3.2)\n",
      "Requirement already satisfied: scipy>=1.9.0 in ./CVLOGOS/lib/python3.10/site-packages (from supervision->roboflow) (1.11.4)\n",
      "\u001b[33mWARNING: There was an error checking the latest version of pip.\u001b[0m\u001b[33m\n",
      "\u001b[0mNote: you may need to restart the kernel to use updated packages.\n",
      "loading Roboflow workspace...\n",
      "loading Roboflow project...\n",
      "Dependency ultralytics==8.0.196 is required but found version=8.0.227, to fix: `pip install ultralytics==8.0.196`\n"
     ]
    },
    {
     "name": "stderr",
     "output_type": "stream",
     "text": [
      "Downloading Dataset Version Zip in Logo-detections--1 to yolov8:: 100%|██████████| 18745/18745 [00:01<00:00, 12310.57it/s]"
     ]
    },
    {
     "name": "stdout",
     "output_type": "stream",
     "text": [
      "\n"
     ]
    },
    {
     "name": "stderr",
     "output_type": "stream",
     "text": [
      "\n",
      "Extracting Dataset Version Zip to Logo-detections--1 in yolov8:: 100%|██████████| 1506/1506 [00:00<00:00, 7032.23it/s]\n"
     ]
    }
   ],
   "source": [
    "#SE INTALAN LIBRERIAS Y DEPENDENCIAS\n",
    "\n",
    "%pip install roboflow\n",
    "%pip install ultralytics\n",
    "%yolo mode=checks\n",
    "\n",
    "from ultralytics import YOLO\n",
    "import os\n",
    "from IPython.display import display, Image\n",
    "from IPython import display\n",
    "display.clear_output()\n",
    "import cv2"
   ]
  },
  {
   "cell_type": "code",
   "execution_count": null,
   "metadata": {},
   "outputs": [],
   "source": [
    "#Esta se usa para traer los datos que se encuentran en Roboflow \n",
    "\n",
    "from roboflow import Roboflow\n",
    "rf = Roboflow(api_key=\"viU3bPsbGFiUX79YLU94\")\n",
    "project = rf.workspace(\"gabvero\").project(\"logo-detections\")\n",
    "dataset = project.version(1).download(\"yolov8\")"
   ]
  },
  {
   "cell_type": "code",
   "execution_count": null,
   "metadata": {},
   "outputs": [],
   "source": [
    "# SE CONECTA CON DRIVE CUANDO LOS DATOS ESTÁN ALLI\n",
    "\"\"\"\n",
    "from google.colab import drive\n",
    "drive.mount('/content/drive')\n",
    "\"\"\""
   ]
  },
  {
   "cell_type": "code",
   "execution_count": null,
   "metadata": {},
   "outputs": [],
   "source": [
    "# Listar directorios en la raíz de Google Drive (SE USA PARA PODER ENCONTRAR EL ARCHIVO SI NO LO TIENES LOCALIZADO)\n",
    "\"\"\"\n",
    "drive_root = '/content/drive/MyDrive/'\n",
    "print(os.listdir(drive_root))\n",
    "\"\"\""
   ]
  },
  {
   "cell_type": "code",
   "execution_count": null,
   "metadata": {},
   "outputs": [],
   "source": [
    "\"\"\"\n",
    "# Ruta a la carpeta del dataset en Google Drive\n",
    "ruta_dataset = '/content/drive/MyDrive/Logo-detections/'\n",
    "\n",
    "# Puedes verificar los archivos en la carpeta \"Logo-detections\"\n",
    "print(os.listdir(ruta_dataset))\n",
    "\n",
    "# Ruta al dataset en Google Drive\n",
    "dataset_path = '/content/drive/My Drive/MyDatasets/mi_dataset_yolo/'\n",
    "\n",
    "\"\"\""
   ]
  },
  {
   "cell_type": "code",
   "execution_count": null,
   "metadata": {},
   "outputs": [],
   "source": [
    "#En este caso se uso un dataset que está en el local\n",
    "ruta_dataset = \"/Users/karlalamus/Desktop/CURSO_IA/CVLogos/Logo-detections--1\"\n",
    "\n",
    "# Rutas a las carpetas de entrenamiento, validación y prueba\n",
    "ruta_entrenamiento = os.path.join(ruta_dataset, 'train/')\n",
    "ruta_validacion = os.path.join(ruta_dataset, 'valid/')\n",
    "ruta_prueba = os.path.join(ruta_dataset, 'test/')\n",
    "\n",
    "# Ruta al archivo de configuración YAML\n",
    "ruta_yaml = os.path.join(ruta_dataset, 'data.yaml')"
   ]
  },
  {
   "cell_type": "code",
   "execution_count": 8,
   "metadata": {},
   "outputs": [
    {
     "name": "stderr",
     "output_type": "stream",
     "text": [
      "python(17357) MallocStackLogging: can't turn off malloc stack logging because it was not enabled.\n"
     ]
    },
    {
     "name": "stdout",
     "output_type": "stream",
     "text": [
      "Ultralytics YOLOv8.0.227 🚀 Python-3.10.13 torch-2.1.1 CPU (Apple M2)\n",
      "\u001b[34m\u001b[1mengine/trainer: \u001b[0mtask=detect, mode=train, model=yolov8m.pt, data=/Users/karlalamus/Desktop/CURSO_IA/CVLogos/Logo-detections--1/data.yaml, epochs=20, patience=50, batch=16, imgsz=640, save=True, save_period=-1, cache=False, device=None, workers=8, project=None, name=train4, exist_ok=False, pretrained=True, optimizer=auto, verbose=True, seed=0, deterministic=True, single_cls=False, rect=False, cos_lr=False, close_mosaic=10, resume=False, amp=True, fraction=1.0, profile=False, freeze=None, overlap_mask=True, mask_ratio=4, dropout=0.0, val=True, split=val, save_json=False, save_hybrid=False, conf=None, iou=0.7, max_det=300, half=False, dnn=False, plots=True, source=None, vid_stride=1, stream_buffer=False, visualize=False, augment=False, agnostic_nms=False, classes=None, retina_masks=False, show=False, save_frames=False, save_txt=False, save_conf=False, save_crop=False, show_labels=True, show_conf=True, show_boxes=True, line_width=None, format=torchscript, keras=False, optimize=False, int8=False, dynamic=False, simplify=False, opset=None, workspace=4, nms=False, lr0=0.01, lrf=0.01, momentum=0.937, weight_decay=0.0005, warmup_epochs=3.0, warmup_momentum=0.8, warmup_bias_lr=0.1, box=7.5, cls=0.5, dfl=1.5, pose=12.0, kobj=1.0, label_smoothing=0.0, nbs=64, hsv_h=0.015, hsv_s=0.7, hsv_v=0.4, degrees=0.0, translate=0.1, scale=0.5, shear=0.0, perspective=0.0, flipud=0.0, fliplr=0.5, mosaic=1.0, mixup=0.0, copy_paste=0.0, cfg=None, tracker=botsort.yaml, save_dir=runs/detect/train4\n",
      "Overriding model.yaml nc=80 with nc=27\n",
      "\n",
      "                   from  n    params  module                                       arguments                     \n",
      "  0                  -1  1      1392  ultralytics.nn.modules.conv.Conv             [3, 48, 3, 2]                 \n",
      "  1                  -1  1     41664  ultralytics.nn.modules.conv.Conv             [48, 96, 3, 2]                \n",
      "  2                  -1  2    111360  ultralytics.nn.modules.block.C2f             [96, 96, 2, True]             \n",
      "  3                  -1  1    166272  ultralytics.nn.modules.conv.Conv             [96, 192, 3, 2]               \n",
      "  4                  -1  4    813312  ultralytics.nn.modules.block.C2f             [192, 192, 4, True]           \n",
      "  5                  -1  1    664320  ultralytics.nn.modules.conv.Conv             [192, 384, 3, 2]              \n",
      "  6                  -1  4   3248640  ultralytics.nn.modules.block.C2f             [384, 384, 4, True]           \n",
      "  7                  -1  1   1991808  ultralytics.nn.modules.conv.Conv             [384, 576, 3, 2]              \n",
      "  8                  -1  2   3985920  ultralytics.nn.modules.block.C2f             [576, 576, 2, True]           \n",
      "  9                  -1  1    831168  ultralytics.nn.modules.block.SPPF            [576, 576, 5]                 \n",
      " 10                  -1  1         0  torch.nn.modules.upsampling.Upsample         [None, 2, 'nearest']          \n",
      " 11             [-1, 6]  1         0  ultralytics.nn.modules.conv.Concat           [1]                           \n",
      " 12                  -1  2   1993728  ultralytics.nn.modules.block.C2f             [960, 384, 2]                 \n",
      " 13                  -1  1         0  torch.nn.modules.upsampling.Upsample         [None, 2, 'nearest']          \n",
      " 14             [-1, 4]  1         0  ultralytics.nn.modules.conv.Concat           [1]                           \n",
      " 15                  -1  2    517632  ultralytics.nn.modules.block.C2f             [576, 192, 2]                 \n",
      " 16                  -1  1    332160  ultralytics.nn.modules.conv.Conv             [192, 192, 3, 2]              \n",
      " 17            [-1, 12]  1         0  ultralytics.nn.modules.conv.Concat           [1]                           \n",
      " 18                  -1  2   1846272  ultralytics.nn.modules.block.C2f             [576, 384, 2]                 \n",
      " 19                  -1  1   1327872  ultralytics.nn.modules.conv.Conv             [384, 384, 3, 2]              \n",
      " 20             [-1, 9]  1         0  ultralytics.nn.modules.conv.Concat           [1]                           \n",
      " 21                  -1  2   4207104  ultralytics.nn.modules.block.C2f             [960, 576, 2]                 \n",
      " 22        [15, 18, 21]  1   3791329  ultralytics.nn.modules.head.Detect           [27, [192, 384, 576]]         \n",
      "Model summary: 295 layers, 25871953 parameters, 25871937 gradients, 79.1 GFLOPs\n",
      "\n",
      "Transferred 469/475 items from pretrained weights\n",
      "\u001b[34m\u001b[1mTensorBoard: \u001b[0mStart with 'tensorboard --logdir runs/detect/train4', view at http://localhost:6006/\n",
      "Freezing layer 'model.22.dfl.conv.weight'\n",
      "\u001b[34m\u001b[1mtrain: \u001b[0mScanning /Users/karlalamus/Desktop/CURSO_IA/CVLogos/Logo-detections--1/tr\u001b[0m\n",
      "\u001b[34m\u001b[1mval: \u001b[0mScanning /Users/karlalamus/Desktop/CURSO_IA/CVLogos/Logo-detections--1/vali\u001b[0m\n",
      "Plotting labels to runs/detect/train4/labels.jpg... \n",
      "\u001b[34m\u001b[1moptimizer:\u001b[0m 'optimizer=auto' found, ignoring 'lr0=0.01' and 'momentum=0.937' and determining best 'optimizer', 'lr0' and 'momentum' automatically... \n",
      "\u001b[34m\u001b[1moptimizer:\u001b[0m AdamW(lr=0.000323, momentum=0.9) with parameter groups 77 weight(decay=0.0), 84 weight(decay=0.0005), 83 bias(decay=0.0)\n",
      "Image sizes 640 train, 640 val\n",
      "Using 0 dataloader workers\n",
      "Logging results to \u001b[1mruns/detect/train4\u001b[0m\n",
      "Starting training for 20 epochs...\n",
      "\n",
      "      Epoch    GPU_mem   box_loss   cls_loss   dfl_loss  Instances       Size\n",
      "       1/20         0G      1.202       4.21      1.442         47        640: 1\n",
      "                 Class     Images  Instances      Box(P          R      mAP50  m\n",
      "                   all        149        357      0.472      0.196      0.194       0.14\n",
      "\n",
      "      Epoch    GPU_mem   box_loss   cls_loss   dfl_loss  Instances       Size\n",
      "       2/20         0G      1.082      3.256      1.315         74        640:  ^C\n",
      "       2/20         0G      1.082      3.256      1.315         74        640:  \n",
      "Traceback (most recent call last):\n",
      "  File \"/Users/karlalamus/Desktop/CURSO_IA/CVLogos/CVLOGOS/bin/yolo\", line 8, in <module>\n",
      "    sys.exit(entrypoint())\n",
      "  File \"/Users/karlalamus/Desktop/CURSO_IA/CVLogos/CVLOGOS/lib/python3.10/site-packages/ultralytics/cfg/__init__.py\", line 448, in entrypoint\n",
      "    getattr(model, mode)(**overrides)  # default args from model\n",
      "  File \"/Users/karlalamus/Desktop/CURSO_IA/CVLogos/CVLOGOS/lib/python3.10/site-packages/ultralytics/engine/model.py\", line 338, in train\n",
      "    self.trainer.train()\n",
      "  File \"/Users/karlalamus/Desktop/CURSO_IA/CVLogos/CVLOGOS/lib/python3.10/site-packages/ultralytics/engine/trainer.py\", line 190, in train\n",
      "    self._do_train(world_size)\n",
      "  File \"/Users/karlalamus/Desktop/CURSO_IA/CVLogos/CVLOGOS/lib/python3.10/site-packages/ultralytics/engine/trainer.py\", line 320, in _do_train\n",
      "    for i, batch in pbar:\n",
      "  File \"/Users/karlalamus/Desktop/CURSO_IA/CVLogos/CVLOGOS/lib/python3.10/site-packages/tqdm/std.py\", line 1182, in __iter__\n",
      "    for obj in iterable:\n",
      "  File \"/Users/karlalamus/Desktop/CURSO_IA/CVLogos/CVLOGOS/lib/python3.10/site-packages/ultralytics/data/build.py\", line 42, in __iter__\n",
      "    yield next(self.iterator)\n",
      "  File \"/Users/karlalamus/Desktop/CURSO_IA/CVLogos/CVLOGOS/lib/python3.10/site-packages/torch/utils/data/dataloader.py\", line 630, in __next__\n",
      "    data = self._next_data()\n",
      "  File \"/Users/karlalamus/Desktop/CURSO_IA/CVLogos/CVLOGOS/lib/python3.10/site-packages/torch/utils/data/dataloader.py\", line 674, in _next_data\n",
      "    data = self._dataset_fetcher.fetch(index)  # may raise StopIteration\n",
      "  File \"/Users/karlalamus/Desktop/CURSO_IA/CVLogos/CVLOGOS/lib/python3.10/site-packages/torch/utils/data/_utils/fetch.py\", line 51, in fetch\n",
      "    data = [self.dataset[idx] for idx in possibly_batched_index]\n",
      "  File \"/Users/karlalamus/Desktop/CURSO_IA/CVLogos/CVLOGOS/lib/python3.10/site-packages/torch/utils/data/_utils/fetch.py\", line 51, in <listcomp>\n",
      "    data = [self.dataset[idx] for idx in possibly_batched_index]\n",
      "  File \"/Users/karlalamus/Desktop/CURSO_IA/CVLogos/CVLOGOS/lib/python3.10/site-packages/ultralytics/data/base.py\", line 248, in __getitem__\n",
      "    return self.transforms(self.get_image_and_label(index))\n",
      "  File \"/Users/karlalamus/Desktop/CURSO_IA/CVLogos/CVLOGOS/lib/python3.10/site-packages/ultralytics/data/augment.py\", line 70, in __call__\n",
      "    data = t(data)\n",
      "  File \"/Users/karlalamus/Desktop/CURSO_IA/CVLogos/CVLOGOS/lib/python3.10/site-packages/ultralytics/data/augment.py\", line 618, in __call__\n",
      "    im_hsv = cv2.merge((cv2.LUT(hue, lut_hue), cv2.LUT(sat, lut_sat), cv2.LUT(val, lut_val)))\n",
      "KeyboardInterrupt\n"
     ]
    }
   ],
   "source": [
    "#ESTAS LINEAS DE CODIGO SE USAN PARA ENTRENAR EL MODELO CON YOLOV8 Y NUESTRO PROPIO DATASET\n",
    "\n",
    "#%yolo task=detect mode=train model=yolov8m.pt data={dataset.location}/data.yaml epochs=20 imgsz=640\n",
    "\n",
    "%yolo task=detect mode=train model=yolov8m.pt data={ruta_yaml} epochs=20"
   ]
  },
  {
   "cell_type": "code",
   "execution_count": null,
   "metadata": {},
   "outputs": [],
   "source": [
    "#SE GENERA MAPA DE CALOR PARA MIRAR RESULTADOS\n",
    "Image(filename=f'/content/runs/detect/train/confusion_matrix.png', width=600)"
   ]
  },
  {
   "cell_type": "code",
   "execution_count": null,
   "metadata": {},
   "outputs": [],
   "source": [
    "#Metricas de resultados\n",
    "Image(filename=f'/content/runs/detect/train/results.png', width=600)"
   ]
  },
  {
   "cell_type": "code",
   "execution_count": 1,
   "metadata": {},
   "outputs": [],
   "source": [
    "#SE GUARDA EL MODELO GENERADO LUEGO DEL ENTRENAMIENTO EN UNA VARIABLE CON EL ARCHIVO best.pt\n",
    "\n",
    "# Asegúrate de que la ruta al modelo sea correcta\n",
    "#modelo_ruta = '/Users/karlalamus/Desktop/CURSO_IA/CVLogos/best.pt'\n",
    "#modelo = YOLO(modelo_ruta)\n",
    "\n",
    "\n",
    "model = YOLO('/content/runs/detect/train/weights/best.pt')"
   ]
  },
  {
   "cell_type": "code",
   "execution_count": 11,
   "metadata": {},
   "outputs": [],
   "source": [
    "# Ruta al archivo de video (PAR REALIZAR PRUEBAS DE PREDICCION)\n",
    "video_ruta = '/Users/karlalamus/Desktop/CURSO_IA/CVLogos/video.mp4'\n",
    "\n",
    "# Realizar la detección de objetos en el video\n",
    "#resultados = modelo.predict(video_ruta, show=True, conf=0.5)\n"
   ]
  },
  {
   "cell_type": "code",
   "execution_count": 12,
   "metadata": {},
   "outputs": [],
   "source": [
    "#SE REPRODUCE EL VIDEO EN EL LOCAL\n",
    "\n",
    "# Ruta al video de salida\n",
    "video_salida = '/Users/karlalamus/Desktop/CURSO_IA/CVLogos/runs/video_con_detecciones.mp4'\n",
    "\n",
    "cap = cv2.VideoCapture(video_ruta)\n",
    "fourcc = cv2.VideoWriter_fourcc(*'mp4v')\n",
    "fps = cap.get(cv2.CAP_PROP_FPS)\n",
    "ancho = int(cap.get(cv2.CAP_PROP_FRAME_WIDTH))\n",
    "alto = int(cap.get(cv2.CAP_PROP_FRAME_HEIGHT))\n",
    "out = cv2.VideoWriter(video_salida, fourcc, fps, (ancho, alto))\n"
   ]
  }
 ],
 "metadata": {
  "kernelspec": {
   "display_name": "CVLOGOS",
   "language": "python",
   "name": "python3"
  },
  "language_info": {
   "codemirror_mode": {
    "name": "ipython",
    "version": 3
   },
   "file_extension": ".py",
   "mimetype": "text/x-python",
   "name": "python",
   "nbconvert_exporter": "python",
   "pygments_lexer": "ipython3",
   "version": "3.10.13"
  }
 },
 "nbformat": 4,
 "nbformat_minor": 2
}
